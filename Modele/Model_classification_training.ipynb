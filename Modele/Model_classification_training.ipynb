{
  "nbformat": 4,
  "nbformat_minor": 0,
  "metadata": {
    "colab": {
      "provenance": [],
      "gpuType": "T4"
    },
    "kernelspec": {
      "name": "python3",
      "display_name": "Python 3"
    },
    "language_info": {
      "name": "python"
    },
    "accelerator": "GPU"
  },
  "cells": [
    {
      "cell_type": "code",
      "execution_count": null,
      "metadata": {
        "id": "F68KMZWN_CIE",
        "colab": {
          "base_uri": "https://localhost:8080/"
        },
        "outputId": "97c36935-5383-49a5-e6bd-d29bf7b09b1b"
      },
      "outputs": [
        {
          "output_type": "stream",
          "name": "stdout",
          "text": [
            "Mounted at /content/drive\n"
          ]
        }
      ],
      "source": [
        "import os\n",
        "import torch\n",
        "import numpy as np\n",
        "import pandas as pd\n",
        "from torch.utils.data import Dataset\n",
        "from sklearn.model_selection import train_test_split\n",
        "from transformers import (\n",
        "    AutoTokenizer,\n",
        "    AutoModelForSequenceClassification,\n",
        "    TrainingArguments,\n",
        "    Trainer,\n",
        "    DataCollatorWithPadding,\n",
        ")\n",
        "from sklearn.metrics import accuracy_score, precision_recall_fscore_support\n",
        "from google.colab import drive\n",
        "drive.mount('/content/drive', force_remount=True)"
      ]
    },
    {
      "cell_type": "code",
      "source": [
        "!ls \"/content/drive/My Drive/Projet IA\""
      ],
      "metadata": {
        "id": "jZpMzukHJlQY",
        "colab": {
          "base_uri": "https://localhost:8080/"
        },
        "outputId": "70a21133-37e6-4ef1-fb77-735ba500421b"
      },
      "execution_count": null,
      "outputs": [
        {
          "output_type": "stream",
          "name": "stdout",
          "text": [
            "balanced_dataset_1000.csv\t   dataset_creation.ipynb\t\t     model_save\n",
            "balanced_dataset.csv\t\t   harassment_model_save\t\t     model_test.ipynb\n",
            "balanced_filtered_dataset.csv\t   harassment_results\t\t\t     Model_training.ipynb\n",
            "balanced_harassment_1000.csv\t   logs\t\t\t\t\t     results\n",
            "balanced_harassment_dataset.csv    Model_classification_training.ipynb\n",
            "binary_classification_dataset.csv  Model_MultiClassification_training.ipynb\n"
          ]
        }
      ]
    },
    {
      "cell_type": "code",
      "source": [
        "# Custom Dataset class to handle input encodings and labels\n",
        "class HarassmentDataset(Dataset):\n",
        "    def __init__(self, texts, labels, tokenizer, max_length=128):\n",
        "        self.encodings = tokenizer(texts, truncation=True, padding=True, max_length=max_length)\n",
        "        self.labels = labels\n",
        "\n",
        "    def __getitem__(self, idx):\n",
        "        item = {key: torch.tensor(val[idx]) for key, val in self.encodings.items()}\n",
        "        item['labels'] = torch.tensor(self.labels[idx], dtype=torch.long)\n",
        "        return item\n",
        "\n",
        "    def __len__(self):\n",
        "        return len(self.labels)"
      ],
      "metadata": {
        "id": "Px9uKV6b_QL7"
      },
      "execution_count": null,
      "outputs": []
    },
    {
      "cell_type": "code",
      "source": [
        "# Function to compute metrics\n",
        "def compute_metrics(pred):\n",
        "    logits, labels = pred\n",
        "    predictions = np.argmax(logits, axis=-1)\n",
        "    acc = accuracy_score(labels, predictions)\n",
        "    precision, recall, f1, _ = precision_recall_fscore_support(labels, predictions, average=\"binary\")\n",
        "    return {\n",
        "        \"accuracy\": acc,\n",
        "        \"precision\": precision,\n",
        "        \"recall\": recall,\n",
        "        \"f1\": f1,\n",
        "    }"
      ],
      "metadata": {
        "id": "v6f2bfHg_XMp"
      },
      "execution_count": null,
      "outputs": []
    },
    {
      "cell_type": "code",
      "source": [
        "def main(path, checkpoint=False):\n",
        "    data_path = path+\"/binary_classification_dataset.csv\"\n",
        "    df = pd.read_csv(data_path)\n",
        "\n",
        "    texts = df['text'].tolist()\n",
        "    labels = df['label'].tolist()\n",
        "\n",
        "    train_texts, val_texts, train_labels, val_labels = train_test_split(\n",
        "        texts, labels, test_size=0.2, random_state=42\n",
        "    )\n",
        "\n",
        "    model_name = \"microsoft/deberta-v3-small\"\n",
        "    tokenizer = AutoTokenizer.from_pretrained(model_name)\n",
        "\n",
        "    train_dataset = HarassmentDataset(train_texts, train_labels, tokenizer)\n",
        "    val_dataset = HarassmentDataset(val_texts, val_labels, tokenizer)\n",
        "\n",
        "    model = AutoModelForSequenceClassification.from_pretrained(model_name, num_labels=2)\n",
        "\n",
        "    training_args = TrainingArguments(\n",
        "        output_dir=path+\"/harassment_results\",\n",
        "        evaluation_strategy=\"epoch\",\n",
        "        save_strategy=\"epoch\",\n",
        "        learning_rate=1e-5,\n",
        "        per_device_train_batch_size=16,\n",
        "        per_device_eval_batch_size=16,\n",
        "        num_train_epochs=5,\n",
        "        weight_decay=0.01,\n",
        "        logging_dir=path+\"/logs\",\n",
        "        logging_steps=10,\n",
        "        load_best_model_at_end=True,\n",
        "        metric_for_best_model=\"f1\",\n",
        "        greater_is_better=True,\n",
        "        save_total_limit=2,\n",
        "    )\n",
        "\n",
        "    data_collator = DataCollatorWithPadding(tokenizer=tokenizer)\n",
        "\n",
        "    trainer = Trainer(\n",
        "        model=model,\n",
        "        args=training_args,\n",
        "        train_dataset=train_dataset,\n",
        "        eval_dataset=val_dataset,\n",
        "        tokenizer=tokenizer,\n",
        "        data_collator=data_collator,\n",
        "        compute_metrics=compute_metrics,\n",
        "    )\n",
        "\n",
        "    if checkpoint:\n",
        "        trainer.train(resume_from_checkpoint=True)\n",
        "    else:\n",
        "        trainer.train()\n",
        "\n",
        "    model.save_pretrained(path+\"/harassment_model_save\")\n",
        "    tokenizer.save_pretrained(path+\"/harassment_model_save\")\n",
        "\n",
        "    metrics = trainer.evaluate()\n",
        "    print(\"Evaluation Metrics:\", metrics)"
      ],
      "metadata": {
        "id": "QD84Yz7L_bFn"
      },
      "execution_count": null,
      "outputs": []
    },
    {
      "cell_type": "code",
      "source": [
        "# Entry point for script\n",
        "if __name__ == \"__main__\":\n",
        "    main(path=\"/content/drive/My Drive/Projet IA\",checkpoint=True)"
      ],
      "metadata": {
        "colab": {
          "base_uri": "https://localhost:8080/",
          "height": 180
        },
        "id": "F5SizwNi_jgi",
        "outputId": "27eb7443-1e35-458b-fcf7-98093c10156a"
      },
      "execution_count": null,
      "outputs": [
        {
          "output_type": "error",
          "ename": "NameError",
          "evalue": "name 'main' is not defined",
          "traceback": [
            "\u001b[0;31m---------------------------------------------------------------------------\u001b[0m",
            "\u001b[0;31mNameError\u001b[0m                                 Traceback (most recent call last)",
            "\u001b[0;32m<ipython-input-5-975cce590332>\u001b[0m in \u001b[0;36m<cell line: 0>\u001b[0;34m()\u001b[0m\n\u001b[1;32m      1\u001b[0m \u001b[0;31m# Entry point for script\u001b[0m\u001b[0;34m\u001b[0m\u001b[0;34m\u001b[0m\u001b[0m\n\u001b[1;32m      2\u001b[0m \u001b[0;32mif\u001b[0m \u001b[0m__name__\u001b[0m \u001b[0;34m==\u001b[0m \u001b[0;34m\"__main__\"\u001b[0m\u001b[0;34m:\u001b[0m\u001b[0;34m\u001b[0m\u001b[0;34m\u001b[0m\u001b[0m\n\u001b[0;32m----> 3\u001b[0;31m     \u001b[0mmain\u001b[0m\u001b[0;34m(\u001b[0m\u001b[0mpath\u001b[0m\u001b[0;34m=\u001b[0m\u001b[0;34m\"/content/drive/My Drive/Projet IA\"\u001b[0m\u001b[0;34m,\u001b[0m\u001b[0mcheckpoint\u001b[0m\u001b[0;34m=\u001b[0m\u001b[0;32mTrue\u001b[0m\u001b[0;34m)\u001b[0m\u001b[0;34m\u001b[0m\u001b[0;34m\u001b[0m\u001b[0m\n\u001b[0m",
            "\u001b[0;31mNameError\u001b[0m: name 'main' is not defined"
          ]
        }
      ]
    },
    {
      "cell_type": "markdown",
      "source": [
        "TESTING\n"
      ],
      "metadata": {
        "id": "TrkdNJ4-lb07"
      }
    },
    {
      "cell_type": "code",
      "source": [
        "import torch\n",
        "from transformers import AutoTokenizer, AutoModelForSequenceClassification\n",
        "import torch.nn.functional as F\n",
        "\n",
        "model_dir = \"/content/drive/My Drive/Projet IA/harassment_model_save\"\n",
        "model = AutoModelForSequenceClassification.from_pretrained(model_dir)\n",
        "tokenizer = AutoTokenizer.from_pretrained(model_dir)\n",
        "\n",
        "model.eval()\n",
        "\n",
        "custom_sentences = [\n",
        "    \"You're son of a bitch and I will puch you if you don't stop\",\n",
        "    \"I want to kill myself tonight\",\n",
        "    \"I want to punch you, your bitch!\",\n",
        "    \"Thank you for helping me out, you're so kind.\",\n",
        "    \"you're useless and not worth a single penny, you should leave the company immediately!!!\",\n",
        "    \"I think you could improve your product because as of now is not good, but there's still margin\",\n",
        "    \"&gt; Also your high beams are for dark roads and when there are no other people on them.\\n\\nAnd when there's no fog.\\n\\nAlso, SHUT DOWN THOSE FUCKING FOGLAMPS WHEN THERE'S NO FOG\"\n",
        "]\n",
        "\n",
        "inputs = tokenizer(\n",
        "    custom_sentences,\n",
        "    return_tensors=\"pt\",\n",
        "    padding=True,\n",
        "    truncation=True,\n",
        "    max_length=128\n",
        ")\n",
        "\n",
        "with torch.no_grad():\n",
        "    outputs = model(**inputs)\n",
        "    logits = outputs.logits\n",
        "    probabilities = F.softmax(logits, dim=-1)\n",
        "\n",
        "for i, sentence in enumerate(custom_sentences):\n",
        "    probs = probabilities[i]\n",
        "    predicted_class = torch.argmax(probs).item()\n",
        "    print(f\"Input: {sentence}\")\n",
        "    print(f\"  Harassment Probability: {probs[1]:.4f}\")\n",
        "    print(f\"  Not Harassment Probability: {probs[0]:.4f}\")\n",
        "    print(f\"  Prediction: {'Harassment' if predicted_class == 1 else 'Not Harassment'}\\n\")\n"
      ],
      "metadata": {
        "id": "aWHvkayXlawP",
        "colab": {
          "base_uri": "https://localhost:8080/"
        },
        "outputId": "0d858d00-42cd-4ce9-ed42-5eddb48dec8b"
      },
      "execution_count": null,
      "outputs": [
        {
          "output_type": "stream",
          "name": "stdout",
          "text": [
            "Input: You're son of a bitch and I will puch you if you don't stop\n",
            "  Harassment Probability: 0.9998\n",
            "  Not Harassment Probability: 0.0002\n",
            "  Prediction: Harassment\n",
            "\n",
            "Input: I want to kill myself tonight\n",
            "  Harassment Probability: 0.9998\n",
            "  Not Harassment Probability: 0.0002\n",
            "  Prediction: Harassment\n",
            "\n",
            "Input: I want to punch you, your bitch!\n",
            "  Harassment Probability: 0.9997\n",
            "  Not Harassment Probability: 0.0003\n",
            "  Prediction: Harassment\n",
            "\n",
            "Input: Thank you for helping me out, you're so kind.\n",
            "  Harassment Probability: 0.0000\n",
            "  Not Harassment Probability: 1.0000\n",
            "  Prediction: Not Harassment\n",
            "\n",
            "Input: you're useless and not worth a single penny, you should leave the company immediately!!!\n",
            "  Harassment Probability: 0.9982\n",
            "  Not Harassment Probability: 0.0018\n",
            "  Prediction: Harassment\n",
            "\n",
            "Input: I think you could improve your product because as of now is not good, but there's still margin\n",
            "  Harassment Probability: 0.0000\n",
            "  Not Harassment Probability: 1.0000\n",
            "  Prediction: Not Harassment\n",
            "\n",
            "Input: &gt; Also your high beams are for dark roads and when there are no other people on them.\n",
            "\n",
            "And when there's no fog.\n",
            "\n",
            "Also, SHUT DOWN THOSE FUCKING FOGLAMPS WHEN THERE'S NO FOG\n",
            "  Harassment Probability: 0.9995\n",
            "  Not Harassment Probability: 0.0005\n",
            "  Prediction: Harassment\n",
            "\n"
          ]
        }
      ]
    },
    {
      "cell_type": "code",
      "source": [
        "!nvidia-smi"
      ],
      "metadata": {
        "colab": {
          "base_uri": "https://localhost:8080/"
        },
        "id": "VHJVYoDOxt6t",
        "outputId": "5ba0ff5e-1627-4973-fa46-4697516833fc"
      },
      "execution_count": null,
      "outputs": [
        {
          "output_type": "stream",
          "name": "stdout",
          "text": [
            "Fri Jan 17 16:11:54 2025       \n",
            "+---------------------------------------------------------------------------------------+\n",
            "| NVIDIA-SMI 535.104.05             Driver Version: 535.104.05   CUDA Version: 12.2     |\n",
            "|-----------------------------------------+----------------------+----------------------+\n",
            "| GPU  Name                 Persistence-M | Bus-Id        Disp.A | Volatile Uncorr. ECC |\n",
            "| Fan  Temp   Perf          Pwr:Usage/Cap |         Memory-Usage | GPU-Util  Compute M. |\n",
            "|                                         |                      |               MIG M. |\n",
            "|=========================================+======================+======================|\n",
            "|   0  Tesla T4                       Off | 00000000:00:04.0 Off |                    0 |\n",
            "| N/A   40C    P8               9W /  70W |      0MiB / 15360MiB |      0%      Default |\n",
            "|                                         |                      |                  N/A |\n",
            "+-----------------------------------------+----------------------+----------------------+\n",
            "                                                                                         \n",
            "+---------------------------------------------------------------------------------------+\n",
            "| Processes:                                                                            |\n",
            "|  GPU   GI   CI        PID   Type   Process name                            GPU Memory |\n",
            "|        ID   ID                                                             Usage      |\n",
            "|=======================================================================================|\n",
            "|  No running processes found                                                           |\n",
            "+---------------------------------------------------------------------------------------+\n"
          ]
        }
      ]
    },
    {
      "cell_type": "code",
      "source": [
        "!curl ipinfo.io"
      ],
      "metadata": {
        "colab": {
          "base_uri": "https://localhost:8080/"
        },
        "id": "HuZMHsuc7Oli",
        "outputId": "3d4c93a1-d7fc-4331-c9eb-876dc6fa623b"
      },
      "execution_count": null,
      "outputs": [
        {
          "output_type": "stream",
          "name": "stdout",
          "text": [
            "{\n",
            "  \"ip\": \"34.139.159.179\",\n",
            "  \"hostname\": \"179.159.139.34.bc.googleusercontent.com\",\n",
            "  \"city\": \"North Charleston\",\n",
            "  \"region\": \"South Carolina\",\n",
            "  \"country\": \"US\",\n",
            "  \"loc\": \"32.8546,-79.9748\",\n",
            "  \"org\": \"AS396982 Google LLC\",\n",
            "  \"postal\": \"29415\",\n",
            "  \"timezone\": \"America/New_York\",\n",
            "  \"readme\": \"https://ipinfo.io/missingauth\"\n",
            "}"
          ]
        }
      ]
    }
  ]
}